{
 "cells": [
  {
   "cell_type": "markdown",
   "metadata": {},
   "source": [
    "# Support Vector Machine (SVM) and Kernel Functions"
   ]
  },
  {
   "cell_type": "markdown",
   "metadata": {},
   "source": [
    "https://scikit-learn.org/stable/modules/generated/sklearn.svm.SVC.html"
   ]
  },
  {
   "cell_type": "code",
   "execution_count": 1,
   "metadata": {},
   "outputs": [],
   "source": [
    "import numpy as np\n",
    "import pandas as pd\n",
    "import matplotlib.pyplot as plt\n",
    "\n",
    "#import SVM model\n",
    "from sklearn.svm import SVC\n",
    "\n",
    "from sklearn.model_selection import train_test_split"
   ]
  },
  {
   "cell_type": "code",
   "execution_count": 15,
   "metadata": {},
   "outputs": [],
   "source": [
    "df = pd.read_csv('leukemia.csv')"
   ]
  },
  {
   "cell_type": "code",
   "execution_count": 16,
   "metadata": {},
   "outputs": [
    {
     "data": {
      "text/html": [
       "<div>\n",
       "<style scoped>\n",
       "    .dataframe tbody tr th:only-of-type {\n",
       "        vertical-align: middle;\n",
       "    }\n",
       "\n",
       "    .dataframe tbody tr th {\n",
       "        vertical-align: top;\n",
       "    }\n",
       "\n",
       "    .dataframe thead th {\n",
       "        text-align: right;\n",
       "    }\n",
       "</style>\n",
       "<table border=\"1\" class=\"dataframe\">\n",
       "  <thead>\n",
       "    <tr style=\"text-align: right;\">\n",
       "      <th></th>\n",
       "      <th>Patient_ID</th>\n",
       "      <th>1563591_at</th>\n",
       "      <th>1570350_at</th>\n",
       "      <th>200063_s_at</th>\n",
       "      <th>206289_at</th>\n",
       "      <th>206847_s_at</th>\n",
       "      <th>208129_x_at</th>\n",
       "      <th>208493_at</th>\n",
       "      <th>208557_at</th>\n",
       "      <th>208604_s_at</th>\n",
       "      <th>...</th>\n",
       "      <th>221691_x_at</th>\n",
       "      <th>221923_s_at</th>\n",
       "      <th>231786_at</th>\n",
       "      <th>235521_at</th>\n",
       "      <th>235753_at</th>\n",
       "      <th>237697_at</th>\n",
       "      <th>238571_at</th>\n",
       "      <th>238808_at</th>\n",
       "      <th>243058_at</th>\n",
       "      <th>Leukemia</th>\n",
       "    </tr>\n",
       "  </thead>\n",
       "  <tbody>\n",
       "    <tr>\n",
       "      <th>0</th>\n",
       "      <td>Sample_1000</td>\n",
       "      <td>3.056436</td>\n",
       "      <td>3.618254</td>\n",
       "      <td>12.641006</td>\n",
       "      <td>5.062973</td>\n",
       "      <td>3.622257</td>\n",
       "      <td>5.536213</td>\n",
       "      <td>3.796584</td>\n",
       "      <td>4.578751</td>\n",
       "      <td>5.061145</td>\n",
       "      <td>...</td>\n",
       "      <td>11.077904</td>\n",
       "      <td>9.686451</td>\n",
       "      <td>2.980329</td>\n",
       "      <td>3.059078</td>\n",
       "      <td>3.780181</td>\n",
       "      <td>3.873638</td>\n",
       "      <td>3.631859</td>\n",
       "      <td>3.032457</td>\n",
       "      <td>5.186670</td>\n",
       "      <td>CLL</td>\n",
       "    </tr>\n",
       "    <tr>\n",
       "      <th>1</th>\n",
       "      <td>Sample_1001</td>\n",
       "      <td>2.972746</td>\n",
       "      <td>3.656448</td>\n",
       "      <td>13.009815</td>\n",
       "      <td>5.444977</td>\n",
       "      <td>4.430324</td>\n",
       "      <td>6.629713</td>\n",
       "      <td>4.143195</td>\n",
       "      <td>4.581042</td>\n",
       "      <td>4.815637</td>\n",
       "      <td>...</td>\n",
       "      <td>11.784089</td>\n",
       "      <td>11.272479</td>\n",
       "      <td>3.504151</td>\n",
       "      <td>4.614741</td>\n",
       "      <td>4.456387</td>\n",
       "      <td>3.392600</td>\n",
       "      <td>3.448984</td>\n",
       "      <td>3.547128</td>\n",
       "      <td>5.084203</td>\n",
       "      <td>AML</td>\n",
       "    </tr>\n",
       "    <tr>\n",
       "      <th>2</th>\n",
       "      <td>Sample_1002</td>\n",
       "      <td>3.111013</td>\n",
       "      <td>3.910347</td>\n",
       "      <td>12.271732</td>\n",
       "      <td>6.454073</td>\n",
       "      <td>6.612310</td>\n",
       "      <td>7.080542</td>\n",
       "      <td>4.685840</td>\n",
       "      <td>5.839468</td>\n",
       "      <td>5.313898</td>\n",
       "      <td>...</td>\n",
       "      <td>11.022868</td>\n",
       "      <td>10.209611</td>\n",
       "      <td>3.029066</td>\n",
       "      <td>8.911515</td>\n",
       "      <td>6.942798</td>\n",
       "      <td>3.864401</td>\n",
       "      <td>3.886512</td>\n",
       "      <td>3.015252</td>\n",
       "      <td>5.046901</td>\n",
       "      <td>AML</td>\n",
       "    </tr>\n",
       "    <tr>\n",
       "      <th>3</th>\n",
       "      <td>Sample_1003</td>\n",
       "      <td>2.882058</td>\n",
       "      <td>3.582897</td>\n",
       "      <td>12.784057</td>\n",
       "      <td>6.593272</td>\n",
       "      <td>4.799354</td>\n",
       "      <td>5.912197</td>\n",
       "      <td>3.515558</td>\n",
       "      <td>5.224020</td>\n",
       "      <td>5.401763</td>\n",
       "      <td>...</td>\n",
       "      <td>11.645520</td>\n",
       "      <td>10.333872</td>\n",
       "      <td>2.632752</td>\n",
       "      <td>7.398745</td>\n",
       "      <td>5.028869</td>\n",
       "      <td>3.845556</td>\n",
       "      <td>3.326164</td>\n",
       "      <td>2.811341</td>\n",
       "      <td>4.803970</td>\n",
       "      <td>AML</td>\n",
       "    </tr>\n",
       "    <tr>\n",
       "      <th>4</th>\n",
       "      <td>Sample_1004</td>\n",
       "      <td>3.335401</td>\n",
       "      <td>3.426485</td>\n",
       "      <td>12.671934</td>\n",
       "      <td>6.060153</td>\n",
       "      <td>6.832800</td>\n",
       "      <td>6.332313</td>\n",
       "      <td>3.391523</td>\n",
       "      <td>5.938946</td>\n",
       "      <td>5.526973</td>\n",
       "      <td>...</td>\n",
       "      <td>11.237164</td>\n",
       "      <td>10.486609</td>\n",
       "      <td>2.693749</td>\n",
       "      <td>8.503826</td>\n",
       "      <td>7.260643</td>\n",
       "      <td>3.547633</td>\n",
       "      <td>3.222044</td>\n",
       "      <td>2.904241</td>\n",
       "      <td>5.076562</td>\n",
       "      <td>AML</td>\n",
       "    </tr>\n",
       "  </tbody>\n",
       "</table>\n",
       "<p>5 rows × 41 columns</p>\n",
       "</div>"
      ],
      "text/plain": [
       "    Patient_ID  1563591_at  1570350_at  200063_s_at  206289_at  206847_s_at  \\\n",
       "0  Sample_1000    3.056436    3.618254    12.641006   5.062973     3.622257   \n",
       "1  Sample_1001    2.972746    3.656448    13.009815   5.444977     4.430324   \n",
       "2  Sample_1002    3.111013    3.910347    12.271732   6.454073     6.612310   \n",
       "3  Sample_1003    2.882058    3.582897    12.784057   6.593272     4.799354   \n",
       "4  Sample_1004    3.335401    3.426485    12.671934   6.060153     6.832800   \n",
       "\n",
       "   208129_x_at  208493_at  208557_at  208604_s_at  ...  221691_x_at  \\\n",
       "0     5.536213   3.796584   4.578751     5.061145  ...    11.077904   \n",
       "1     6.629713   4.143195   4.581042     4.815637  ...    11.784089   \n",
       "2     7.080542   4.685840   5.839468     5.313898  ...    11.022868   \n",
       "3     5.912197   3.515558   5.224020     5.401763  ...    11.645520   \n",
       "4     6.332313   3.391523   5.938946     5.526973  ...    11.237164   \n",
       "\n",
       "   221923_s_at  231786_at  235521_at  235753_at  237697_at  238571_at  \\\n",
       "0     9.686451   2.980329   3.059078   3.780181   3.873638   3.631859   \n",
       "1    11.272479   3.504151   4.614741   4.456387   3.392600   3.448984   \n",
       "2    10.209611   3.029066   8.911515   6.942798   3.864401   3.886512   \n",
       "3    10.333872   2.632752   7.398745   5.028869   3.845556   3.326164   \n",
       "4    10.486609   2.693749   8.503826   7.260643   3.547633   3.222044   \n",
       "\n",
       "   238808_at  243058_at  Leukemia  \n",
       "0   3.032457   5.186670       CLL  \n",
       "1   3.547128   5.084203       AML  \n",
       "2   3.015252   5.046901       AML  \n",
       "3   2.811341   4.803970       AML  \n",
       "4   2.904241   5.076562       AML  \n",
       "\n",
       "[5 rows x 41 columns]"
      ]
     },
     "execution_count": 16,
     "metadata": {},
     "output_type": "execute_result"
    }
   ],
   "source": [
    "df.head()"
   ]
  },
  {
   "cell_type": "code",
   "execution_count": 17,
   "metadata": {},
   "outputs": [],
   "source": [
    "df['Leukemia'] = df['Leukemia'].apply(lambda x: 0 if x == 'Nonleukemia' else 1)\n"
   ]
  },
  {
   "cell_type": "code",
   "execution_count": 18,
   "metadata": {},
   "outputs": [
    {
     "data": {
      "text/html": [
       "<div>\n",
       "<style scoped>\n",
       "    .dataframe tbody tr th:only-of-type {\n",
       "        vertical-align: middle;\n",
       "    }\n",
       "\n",
       "    .dataframe tbody tr th {\n",
       "        vertical-align: top;\n",
       "    }\n",
       "\n",
       "    .dataframe thead th {\n",
       "        text-align: right;\n",
       "    }\n",
       "</style>\n",
       "<table border=\"1\" class=\"dataframe\">\n",
       "  <thead>\n",
       "    <tr style=\"text-align: right;\">\n",
       "      <th></th>\n",
       "      <th>Patient_ID</th>\n",
       "      <th>1563591_at</th>\n",
       "      <th>1570350_at</th>\n",
       "      <th>200063_s_at</th>\n",
       "      <th>206289_at</th>\n",
       "      <th>206847_s_at</th>\n",
       "      <th>208129_x_at</th>\n",
       "      <th>208493_at</th>\n",
       "      <th>208557_at</th>\n",
       "      <th>208604_s_at</th>\n",
       "      <th>...</th>\n",
       "      <th>221691_x_at</th>\n",
       "      <th>221923_s_at</th>\n",
       "      <th>231786_at</th>\n",
       "      <th>235521_at</th>\n",
       "      <th>235753_at</th>\n",
       "      <th>237697_at</th>\n",
       "      <th>238571_at</th>\n",
       "      <th>238808_at</th>\n",
       "      <th>243058_at</th>\n",
       "      <th>Leukemia</th>\n",
       "    </tr>\n",
       "  </thead>\n",
       "  <tbody>\n",
       "    <tr>\n",
       "      <th>0</th>\n",
       "      <td>Sample_1000</td>\n",
       "      <td>3.056436</td>\n",
       "      <td>3.618254</td>\n",
       "      <td>12.641006</td>\n",
       "      <td>5.062973</td>\n",
       "      <td>3.622257</td>\n",
       "      <td>5.536213</td>\n",
       "      <td>3.796584</td>\n",
       "      <td>4.578751</td>\n",
       "      <td>5.061145</td>\n",
       "      <td>...</td>\n",
       "      <td>11.077904</td>\n",
       "      <td>9.686451</td>\n",
       "      <td>2.980329</td>\n",
       "      <td>3.059078</td>\n",
       "      <td>3.780181</td>\n",
       "      <td>3.873638</td>\n",
       "      <td>3.631859</td>\n",
       "      <td>3.032457</td>\n",
       "      <td>5.186670</td>\n",
       "      <td>1</td>\n",
       "    </tr>\n",
       "    <tr>\n",
       "      <th>1</th>\n",
       "      <td>Sample_1001</td>\n",
       "      <td>2.972746</td>\n",
       "      <td>3.656448</td>\n",
       "      <td>13.009815</td>\n",
       "      <td>5.444977</td>\n",
       "      <td>4.430324</td>\n",
       "      <td>6.629713</td>\n",
       "      <td>4.143195</td>\n",
       "      <td>4.581042</td>\n",
       "      <td>4.815637</td>\n",
       "      <td>...</td>\n",
       "      <td>11.784089</td>\n",
       "      <td>11.272479</td>\n",
       "      <td>3.504151</td>\n",
       "      <td>4.614741</td>\n",
       "      <td>4.456387</td>\n",
       "      <td>3.392600</td>\n",
       "      <td>3.448984</td>\n",
       "      <td>3.547128</td>\n",
       "      <td>5.084203</td>\n",
       "      <td>1</td>\n",
       "    </tr>\n",
       "    <tr>\n",
       "      <th>2</th>\n",
       "      <td>Sample_1002</td>\n",
       "      <td>3.111013</td>\n",
       "      <td>3.910347</td>\n",
       "      <td>12.271732</td>\n",
       "      <td>6.454073</td>\n",
       "      <td>6.612310</td>\n",
       "      <td>7.080542</td>\n",
       "      <td>4.685840</td>\n",
       "      <td>5.839468</td>\n",
       "      <td>5.313898</td>\n",
       "      <td>...</td>\n",
       "      <td>11.022868</td>\n",
       "      <td>10.209611</td>\n",
       "      <td>3.029066</td>\n",
       "      <td>8.911515</td>\n",
       "      <td>6.942798</td>\n",
       "      <td>3.864401</td>\n",
       "      <td>3.886512</td>\n",
       "      <td>3.015252</td>\n",
       "      <td>5.046901</td>\n",
       "      <td>1</td>\n",
       "    </tr>\n",
       "    <tr>\n",
       "      <th>3</th>\n",
       "      <td>Sample_1003</td>\n",
       "      <td>2.882058</td>\n",
       "      <td>3.582897</td>\n",
       "      <td>12.784057</td>\n",
       "      <td>6.593272</td>\n",
       "      <td>4.799354</td>\n",
       "      <td>5.912197</td>\n",
       "      <td>3.515558</td>\n",
       "      <td>5.224020</td>\n",
       "      <td>5.401763</td>\n",
       "      <td>...</td>\n",
       "      <td>11.645520</td>\n",
       "      <td>10.333872</td>\n",
       "      <td>2.632752</td>\n",
       "      <td>7.398745</td>\n",
       "      <td>5.028869</td>\n",
       "      <td>3.845556</td>\n",
       "      <td>3.326164</td>\n",
       "      <td>2.811341</td>\n",
       "      <td>4.803970</td>\n",
       "      <td>1</td>\n",
       "    </tr>\n",
       "    <tr>\n",
       "      <th>4</th>\n",
       "      <td>Sample_1004</td>\n",
       "      <td>3.335401</td>\n",
       "      <td>3.426485</td>\n",
       "      <td>12.671934</td>\n",
       "      <td>6.060153</td>\n",
       "      <td>6.832800</td>\n",
       "      <td>6.332313</td>\n",
       "      <td>3.391523</td>\n",
       "      <td>5.938946</td>\n",
       "      <td>5.526973</td>\n",
       "      <td>...</td>\n",
       "      <td>11.237164</td>\n",
       "      <td>10.486609</td>\n",
       "      <td>2.693749</td>\n",
       "      <td>8.503826</td>\n",
       "      <td>7.260643</td>\n",
       "      <td>3.547633</td>\n",
       "      <td>3.222044</td>\n",
       "      <td>2.904241</td>\n",
       "      <td>5.076562</td>\n",
       "      <td>1</td>\n",
       "    </tr>\n",
       "  </tbody>\n",
       "</table>\n",
       "<p>5 rows × 41 columns</p>\n",
       "</div>"
      ],
      "text/plain": [
       "    Patient_ID  1563591_at  1570350_at  200063_s_at  206289_at  206847_s_at  \\\n",
       "0  Sample_1000    3.056436    3.618254    12.641006   5.062973     3.622257   \n",
       "1  Sample_1001    2.972746    3.656448    13.009815   5.444977     4.430324   \n",
       "2  Sample_1002    3.111013    3.910347    12.271732   6.454073     6.612310   \n",
       "3  Sample_1003    2.882058    3.582897    12.784057   6.593272     4.799354   \n",
       "4  Sample_1004    3.335401    3.426485    12.671934   6.060153     6.832800   \n",
       "\n",
       "   208129_x_at  208493_at  208557_at  208604_s_at  ...  221691_x_at  \\\n",
       "0     5.536213   3.796584   4.578751     5.061145  ...    11.077904   \n",
       "1     6.629713   4.143195   4.581042     4.815637  ...    11.784089   \n",
       "2     7.080542   4.685840   5.839468     5.313898  ...    11.022868   \n",
       "3     5.912197   3.515558   5.224020     5.401763  ...    11.645520   \n",
       "4     6.332313   3.391523   5.938946     5.526973  ...    11.237164   \n",
       "\n",
       "   221923_s_at  231786_at  235521_at  235753_at  237697_at  238571_at  \\\n",
       "0     9.686451   2.980329   3.059078   3.780181   3.873638   3.631859   \n",
       "1    11.272479   3.504151   4.614741   4.456387   3.392600   3.448984   \n",
       "2    10.209611   3.029066   8.911515   6.942798   3.864401   3.886512   \n",
       "3    10.333872   2.632752   7.398745   5.028869   3.845556   3.326164   \n",
       "4    10.486609   2.693749   8.503826   7.260643   3.547633   3.222044   \n",
       "\n",
       "   238808_at  243058_at  Leukemia  \n",
       "0   3.032457   5.186670         1  \n",
       "1   3.547128   5.084203         1  \n",
       "2   3.015252   5.046901         1  \n",
       "3   2.811341   4.803970         1  \n",
       "4   2.904241   5.076562         1  \n",
       "\n",
       "[5 rows x 41 columns]"
      ]
     },
     "execution_count": 18,
     "metadata": {},
     "output_type": "execute_result"
    }
   ],
   "source": [
    "df.head()"
   ]
  },
  {
   "cell_type": "code",
   "execution_count": 19,
   "metadata": {},
   "outputs": [],
   "source": [
    "value_counts = df['Leukemia'].value_counts()"
   ]
  },
  {
   "cell_type": "code",
   "execution_count": 20,
   "metadata": {},
   "outputs": [
    {
     "data": {
      "text/plain": [
       "1    1200\n",
       "0      73\n",
       "Name: Leukemia, dtype: int64"
      ]
     },
     "execution_count": 20,
     "metadata": {},
     "output_type": "execute_result"
    }
   ],
   "source": [
    "value_counts"
   ]
  },
  {
   "cell_type": "code",
   "execution_count": 21,
   "metadata": {},
   "outputs": [
    {
     "data": {
      "text/plain": [
       "<AxesSubplot:>"
      ]
     },
     "execution_count": 21,
     "metadata": {},
     "output_type": "execute_result"
    },
    {
     "data": {
      "image/png": "[encoded data removed]",
      "text/plain": [
       "<Figure size 640x480 with 1 Axes>"
      ]
     },
     "metadata": {},
     "output_type": "display_data"
    }
   ],
   "source": [
    "df['Leukemia'].hist()"
   ]
  },
  {
   "cell_type": "code",
   "execution_count": 22,
   "metadata": {},
   "outputs": [],
   "source": [
    "df = df.drop('Patient_ID', axis=1)"
   ]
  },
  {
   "cell_type": "code",
   "execution_count": 23,
   "metadata": {},
   "outputs": [
    {
     "data": {
      "text/html": [
       "<div>\n",
       "<style scoped>\n",
       "    .dataframe tbody tr th:only-of-type {\n",
       "        vertical-align: middle;\n",
       "    }\n",
       "\n",
       "    .dataframe tbody tr th {\n",
       "        vertical-align: top;\n",
       "    }\n",
       "\n",
       "    .dataframe thead th {\n",
       "        text-align: right;\n",
       "    }\n",
       "</style>\n",
       "<table border=\"1\" class=\"dataframe\">\n",
       "  <thead>\n",
       "    <tr style=\"text-align: right;\">\n",
       "      <th></th>\n",
       "      <th>1563591_at</th>\n",
       "      <th>1570350_at</th>\n",
       "      <th>200063_s_at</th>\n",
       "      <th>206289_at</th>\n",
       "      <th>206847_s_at</th>\n",
       "      <th>208129_x_at</th>\n",
       "      <th>208493_at</th>\n",
       "      <th>208557_at</th>\n",
       "      <th>208604_s_at</th>\n",
       "      <th>209359_x_at</th>\n",
       "      <th>...</th>\n",
       "      <th>221691_x_at</th>\n",
       "      <th>221923_s_at</th>\n",
       "      <th>231786_at</th>\n",
       "      <th>235521_at</th>\n",
       "      <th>235753_at</th>\n",
       "      <th>237697_at</th>\n",
       "      <th>238571_at</th>\n",
       "      <th>238808_at</th>\n",
       "      <th>243058_at</th>\n",
       "      <th>Leukemia</th>\n",
       "    </tr>\n",
       "  </thead>\n",
       "  <tbody>\n",
       "    <tr>\n",
       "      <th>0</th>\n",
       "      <td>3.056436</td>\n",
       "      <td>3.618254</td>\n",
       "      <td>12.641006</td>\n",
       "      <td>5.062973</td>\n",
       "      <td>3.622257</td>\n",
       "      <td>5.536213</td>\n",
       "      <td>3.796584</td>\n",
       "      <td>4.578751</td>\n",
       "      <td>5.061145</td>\n",
       "      <td>5.290259</td>\n",
       "      <td>...</td>\n",
       "      <td>11.077904</td>\n",
       "      <td>9.686451</td>\n",
       "      <td>2.980329</td>\n",
       "      <td>3.059078</td>\n",
       "      <td>3.780181</td>\n",
       "      <td>3.873638</td>\n",
       "      <td>3.631859</td>\n",
       "      <td>3.032457</td>\n",
       "      <td>5.186670</td>\n",
       "      <td>1</td>\n",
       "    </tr>\n",
       "    <tr>\n",
       "      <th>1</th>\n",
       "      <td>2.972746</td>\n",
       "      <td>3.656448</td>\n",
       "      <td>13.009815</td>\n",
       "      <td>5.444977</td>\n",
       "      <td>4.430324</td>\n",
       "      <td>6.629713</td>\n",
       "      <td>4.143195</td>\n",
       "      <td>4.581042</td>\n",
       "      <td>4.815637</td>\n",
       "      <td>6.658555</td>\n",
       "      <td>...</td>\n",
       "      <td>11.784089</td>\n",
       "      <td>11.272479</td>\n",
       "      <td>3.504151</td>\n",
       "      <td>4.614741</td>\n",
       "      <td>4.456387</td>\n",
       "      <td>3.392600</td>\n",
       "      <td>3.448984</td>\n",
       "      <td>3.547128</td>\n",
       "      <td>5.084203</td>\n",
       "      <td>1</td>\n",
       "    </tr>\n",
       "    <tr>\n",
       "      <th>2</th>\n",
       "      <td>3.111013</td>\n",
       "      <td>3.910347</td>\n",
       "      <td>12.271732</td>\n",
       "      <td>6.454073</td>\n",
       "      <td>6.612310</td>\n",
       "      <td>7.080542</td>\n",
       "      <td>4.685840</td>\n",
       "      <td>5.839468</td>\n",
       "      <td>5.313898</td>\n",
       "      <td>6.910273</td>\n",
       "      <td>...</td>\n",
       "      <td>11.022868</td>\n",
       "      <td>10.209611</td>\n",
       "      <td>3.029066</td>\n",
       "      <td>8.911515</td>\n",
       "      <td>6.942798</td>\n",
       "      <td>3.864401</td>\n",
       "      <td>3.886512</td>\n",
       "      <td>3.015252</td>\n",
       "      <td>5.046901</td>\n",
       "      <td>1</td>\n",
       "    </tr>\n",
       "    <tr>\n",
       "      <th>3</th>\n",
       "      <td>2.882058</td>\n",
       "      <td>3.582897</td>\n",
       "      <td>12.784057</td>\n",
       "      <td>6.593272</td>\n",
       "      <td>4.799354</td>\n",
       "      <td>5.912197</td>\n",
       "      <td>3.515558</td>\n",
       "      <td>5.224020</td>\n",
       "      <td>5.401763</td>\n",
       "      <td>5.439815</td>\n",
       "      <td>...</td>\n",
       "      <td>11.645520</td>\n",
       "      <td>10.333872</td>\n",
       "      <td>2.632752</td>\n",
       "      <td>7.398745</td>\n",
       "      <td>5.028869</td>\n",
       "      <td>3.845556</td>\n",
       "      <td>3.326164</td>\n",
       "      <td>2.811341</td>\n",
       "      <td>4.803970</td>\n",
       "      <td>1</td>\n",
       "    </tr>\n",
       "    <tr>\n",
       "      <th>4</th>\n",
       "      <td>3.335401</td>\n",
       "      <td>3.426485</td>\n",
       "      <td>12.671934</td>\n",
       "      <td>6.060153</td>\n",
       "      <td>6.832800</td>\n",
       "      <td>6.332313</td>\n",
       "      <td>3.391523</td>\n",
       "      <td>5.938946</td>\n",
       "      <td>5.526973</td>\n",
       "      <td>6.680934</td>\n",
       "      <td>...</td>\n",
       "      <td>11.237164</td>\n",
       "      <td>10.486609</td>\n",
       "      <td>2.693749</td>\n",
       "      <td>8.503826</td>\n",
       "      <td>7.260643</td>\n",
       "      <td>3.547633</td>\n",
       "      <td>3.222044</td>\n",
       "      <td>2.904241</td>\n",
       "      <td>5.076562</td>\n",
       "      <td>1</td>\n",
       "    </tr>\n",
       "  </tbody>\n",
       "</table>\n",
       "<p>5 rows × 40 columns</p>\n",
       "</div>"
      ],
      "text/plain": [
       "   1563591_at  1570350_at  200063_s_at  206289_at  206847_s_at  208129_x_at  \\\n",
       "0    3.056436    3.618254    12.641006   5.062973     3.622257     5.536213   \n",
       "1    2.972746    3.656448    13.009815   5.444977     4.430324     6.629713   \n",
       "2    3.111013    3.910347    12.271732   6.454073     6.612310     7.080542   \n",
       "3    2.882058    3.582897    12.784057   6.593272     4.799354     5.912197   \n",
       "4    3.335401    3.426485    12.671934   6.060153     6.832800     6.332313   \n",
       "\n",
       "   208493_at  208557_at  208604_s_at  209359_x_at  ...  221691_x_at  \\\n",
       "0   3.796584   4.578751     5.061145     5.290259  ...    11.077904   \n",
       "1   4.143195   4.581042     4.815637     6.658555  ...    11.784089   \n",
       "2   4.685840   5.839468     5.313898     6.910273  ...    11.022868   \n",
       "3   3.515558   5.224020     5.401763     5.439815  ...    11.645520   \n",
       "4   3.391523   5.938946     5.526973     6.680934  ...    11.237164   \n",
       "\n",
       "   221923_s_at  231786_at  235521_at  235753_at  237697_at  238571_at  \\\n",
       "0     9.686451   2.980329   3.059078   3.780181   3.873638   3.631859   \n",
       "1    11.272479   3.504151   4.614741   4.456387   3.392600   3.448984   \n",
       "2    10.209611   3.029066   8.911515   6.942798   3.864401   3.886512   \n",
       "3    10.333872   2.632752   7.398745   5.028869   3.845556   3.326164   \n",
       "4    10.486609   2.693749   8.503826   7.260643   3.547633   3.222044   \n",
       "\n",
       "   238808_at  243058_at  Leukemia  \n",
       "0   3.032457   5.186670         1  \n",
       "1   3.547128   5.084203         1  \n",
       "2   3.015252   5.046901         1  \n",
       "3   2.811341   4.803970         1  \n",
       "4   2.904241   5.076562         1  \n",
       "\n",
       "[5 rows x 40 columns]"
      ]
     },
     "execution_count": 23,
     "metadata": {},
     "output_type": "execute_result"
    }
   ],
   "source": [
    "df.head()"
   ]
  },
  {
   "cell_type": "code",
   "execution_count": 24,
   "metadata": {},
   "outputs": [],
   "source": [
    "x = df.drop('Leukemia', axis=1)\n",
    "y = df['Leukemia']"
   ]
  },
  {
   "cell_type": "code",
   "execution_count": 25,
   "metadata": {
    "scrolled": true
   },
   "outputs": [],
   "source": [
    "# split the data\n",
    "# test random state\n",
    "xtrain, xtest, ytrain, ytest = train_test_split(x, y, test_size = 0.30)"
   ]
  },
  {
   "cell_type": "code",
   "execution_count": 26,
   "metadata": {},
   "outputs": [],
   "source": [
    "# train and predict using a linear classifier\n",
    "linear_clf = SVC(kernel='linear')\n",
    "linear_clf.fit(xtrain, ytrain)\n",
    "ypred1=linear_clf.predict(xtest)"
   ]
  },
  {
   "cell_type": "code",
   "execution_count": 27,
   "metadata": {},
   "outputs": [
    {
     "data": {
      "text/plain": [
       "0.9554973821989529"
      ]
     },
     "execution_count": 27,
     "metadata": {},
     "output_type": "execute_result"
    }
   ],
   "source": [
    "# check model performance\n",
    "from sklearn.metrics import accuracy_score\n",
    "accuracy_score(ypred1, ytest)"
   ]
  },
  {
   "cell_type": "code",
   "execution_count": 28,
   "metadata": {},
   "outputs": [],
   "source": [
    "# train and predict using a RBF Kernel classifier\n",
    "rbf_clf = SVC(kernel='rbf')\n",
    "rbf_clf.fit(xtrain, ytrain)\n",
    "ypred2=rbf_clf.predict(xtest)"
   ]
  },
  {
   "cell_type": "code",
   "execution_count": 29,
   "metadata": {},
   "outputs": [
    {
     "data": {
      "text/plain": [
       "0.9554973821989529"
      ]
     },
     "execution_count": 29,
     "metadata": {},
     "output_type": "execute_result"
    }
   ],
   "source": [
    "# check model performance\n",
    "from sklearn.metrics import accuracy_score\n",
    "accuracy_score(ypred2, ytest)"
   ]
  },
  {
   "cell_type": "code",
   "execution_count": 30,
   "metadata": {},
   "outputs": [],
   "source": [
    "# train and predict using a poly kernel with degree 3\n",
    "poly_clf = SVC(kernel='poly', degree=3)\n",
    "poly_clf.fit(xtrain, ytrain)\n",
    "ypred3=poly_clf.predict(xtest)"
   ]
  },
  {
   "cell_type": "code",
   "execution_count": 31,
   "metadata": {},
   "outputs": [],
   "source": [
    "# train and predict using a poly kernel with degree 2\n",
    "poly_clf = SVC(kernel='poly', degree=2)\n",
    "poly_clf.fit(xtrain, ytrain)\n",
    "ypred4=poly_clf.predict(xtest)"
   ]
  },
  {
   "cell_type": "code",
   "execution_count": 32,
   "metadata": {},
   "outputs": [
    {
     "data": {
      "text/plain": [
       "0.9633507853403142"
      ]
     },
     "execution_count": 32,
     "metadata": {},
     "output_type": "execute_result"
    }
   ],
   "source": [
    "# check model performance\n",
    "from sklearn.metrics import accuracy_score\n",
    "accuracy_score(ypred3, ytest)"
   ]
  },
  {
   "cell_type": "code",
   "execution_count": 33,
   "metadata": {},
   "outputs": [
    {
     "data": {
      "text/plain": [
       "0.9554973821989529"
      ]
     },
     "execution_count": 33,
     "metadata": {},
     "output_type": "execute_result"
    }
   ],
   "source": [
    "# check model performance\n",
    "from sklearn.metrics import accuracy_score\n",
    "accuracy_score(ypred4, ytest)"
   ]
  },
  {
   "cell_type": "markdown",
   "metadata": {},
   "source": [
    "    "
   ]
  }
 ],
 "metadata": {
  "kernelspec": {
   "display_name": "Python 3 (ipykernel)",
   "language": "python",
   "name": "python3"
  },
  "language_info": {
   "codemirror_mode": {
    "name": "ipython",
    "version": 3
   },
   "file_extension": ".py",
   "mimetype": "text/x-python",
   "name": "python",
   "nbconvert_exporter": "python",
   "pygments_lexer": "ipython3",
   "version": "3.9.13"
  }
 },
 "nbformat": 4,
 "nbformat_minor": 4
}
